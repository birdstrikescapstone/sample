{
 "cells": [
  {
   "cell_type": "code",
   "execution_count": null,
   "metadata": {},
   "outputs": [],
   "source": [
    "import numpy as np \n",
    "import pandas as pd \n",
    "import matplotlib.pyplot as plt \n",
    "import seaborn as sns \n",
    "from IPython.core.interactiveshell import InteractiveShell\n",
    "InteractiveShell.ast_node_interactivity = \"all\"\n",
    "pd.options.display.max_seq_items = 20000"
   ]
  },
  {
   "cell_type": "code",
   "execution_count": null,
   "metadata": {},
   "outputs": [],
   "source": [
    "# Dataset location\n",
    "database = '/Users/krishnaprasad/Study/NYU/Capstone/Notebooks/Strikes_Master.csv'\n",
    "\n",
    "# Read in a CSV file and store the contents in a dataframe (df)\n",
    "df = pd.read_csv(database, low_memory=False,encoding = \"ISO-8859-1\")\n",
    "df"
   ]
  },
  {
   "cell_type": "markdown",
   "metadata": {},
   "source": [
    "#### Features like identifiers or registration numbers are pruned from the dataset as they do not influence the target variable"
   ]
  },
  {
   "cell_type": "code",
   "execution_count": null,
   "metadata": {},
   "outputs": [],
   "source": [
    "strikes=df.drop(columns=['OPID','AMA','AMO','EMA','EMO','ENG_1_POS','ENG_2_POS','ENG_3_POS','ENG_4_POS','REG','FLT','FAAREGION','REPORTED_NAME','REPORTED_TITLE','REPORTED_DATE','LUPDATE','SOURCE','PERSON'])"
   ]
  },
  {
   "cell_type": "code",
   "execution_count": null,
   "metadata": {},
   "outputs": [],
   "source": [
    "strikes\n",
    "list(strikes.columns)"
   ]
  },
  {
   "cell_type": "code",
   "execution_count": null,
   "metadata": {},
   "outputs": [],
   "source": [
    "# Get all unique values from all columns\n",
    "def getAllUniqueValues():\n",
    "    unique_values = {}\n",
    "    for col in list(strikes):\n",
    "        unique_values.update({col:np.sort(strikes[col].astype(str).unique())})\n",
    "    return unique_values"
   ]
  },
  {
   "cell_type": "code",
   "execution_count": null,
   "metadata": {},
   "outputs": [],
   "source": [
    "# Get Unique values for all columns\n",
    "unique_dict = getAllUniqueValues()\n",
    "unique_dict"
   ]
  },
  {
   "cell_type": "code",
   "execution_count": null,
   "metadata": {},
   "outputs": [],
   "source": [
    "#Frequency of Airports in the dataset\n",
    "strikes['AIRPORT_ID'].value_counts()"
   ]
  },
  {
   "cell_type": "code",
   "execution_count": null,
   "metadata": {},
   "outputs": [],
   "source": [
    "#Frequency of Species in the dataset\n",
    "strikes['SPECIES'].value_counts()"
   ]
  },
  {
   "cell_type": "code",
   "execution_count": null,
   "metadata": {},
   "outputs": [],
   "source": [
    "strikes_filtered=strikes[strikes.HEIGHT < 2000]"
   ]
  },
  {
   "cell_type": "code",
   "execution_count": null,
   "metadata": {},
   "outputs": [],
   "source": [
    "strikes_filtered=strikes_filtered[strikes_filtered.AIRPORT_ID != \"ZZZZ\"]\n",
    "strikes_filtered"
   ]
  },
  {
   "cell_type": "code",
   "execution_count": null,
   "metadata": {},
   "outputs": [],
   "source": [
    "# These are the columns we're going to take from the original dataframe\n",
    "subset_list = [\"INCIDENT_YEAR\",\n",
    "               \"INCIDENT_MONTH\",\n",
    "               \"INCIDENT_DATE\",\n",
    "               \"OPERATOR\",\n",
    "               \"STATE\",\n",
    "               \"AIRPORT_ID\", \n",
    "               \"PHASE_OF_FLT\",\n",
    "               \"SPECIES\"]\n",
    "\n",
    "# We're saving them into a new dataframe\n",
    "df = pd.DataFrame(data=strikes_filtered, columns=subset_list)\n",
    "df"
   ]
  },
  {
   "cell_type": "code",
   "execution_count": null,
   "metadata": {},
   "outputs": [],
   "source": [
    "#Frequency of Airports in the dataset\n",
    "strikes_filtered['AIRPORT_ID'].value_counts()"
   ]
  },
  {
   "cell_type": "code",
   "execution_count": null,
   "metadata": {},
   "outputs": [],
   "source": [
    "# Strikes per year\n",
    "df[\"INCIDENT_YEAR\"].hist()\n",
    "plt.title('Incident Year v/s Damage Frequency')\n",
    "plt.xlabel(\"Incident Year\")\n",
    "plt.ylabel(\"Damage frequency\")"
   ]
  },
  {
   "cell_type": "code",
   "execution_count": null,
   "metadata": {},
   "outputs": [],
   "source": [
    "#Frequency of Species in the dataset\n",
    "strikes_filtered['SPECIES'].value_counts()"
   ]
  },
  {
   "cell_type": "code",
   "execution_count": null,
   "metadata": {},
   "outputs": [],
   "source": []
  }
 ],
 "metadata": {
  "kernelspec": {
   "display_name": "Python 3",
   "language": "python",
   "name": "python3"
  },
  "language_info": {
   "codemirror_mode": {
    "name": "ipython",
    "version": 3
   },
   "file_extension": ".py",
   "mimetype": "text/x-python",
   "name": "python",
   "nbconvert_exporter": "python",
   "pygments_lexer": "ipython3",
   "version": "3.7.1"
  }
 },
 "nbformat": 4,
 "nbformat_minor": 2
}

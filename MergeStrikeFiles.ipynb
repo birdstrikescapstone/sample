{
 "cells": [
  {
   "cell_type": "code",
   "execution_count": null,
   "metadata": {},
   "outputs": [],
   "source": [
    "import numpy as np \n",
    "import pandas as pd"
   ]
  },
  {
   "cell_type": "code",
   "execution_count": null,
   "metadata": {},
   "outputs": [],
   "source": [
    "# Dataset location\n",
    "database = '/Users/krishnaprasad/Study/NYU/Capstone/STRIKE_REPORTS_1990_1999_MAS.csv'\n",
    "\n",
    "# Read in a CSV file and store the contents in a dataframe (df)\n",
    "df_1990 = pd.read_csv(database, low_memory=False,encoding = \"ISO-8859-1\")"
   ]
  },
  {
   "cell_type": "code",
   "execution_count": null,
   "metadata": {},
   "outputs": [],
   "source": [
    "df_1990"
   ]
  },
  {
   "cell_type": "code",
   "execution_count": null,
   "metadata": {},
   "outputs": [],
   "source": [
    "# Dataset location\n",
    "database = '/Users/krishnaprasad/Study/NYU/Capstone/STRIKE_REPORTS_2000_2009_MAS.csv'\n",
    "\n",
    "# Read in a CSV file and store the contents in a dataframe (df)\n",
    "df_2000 = pd.read_csv(database, low_memory=False,encoding = \"ISO-8859-1\")"
   ]
  },
  {
   "cell_type": "code",
   "execution_count": null,
   "metadata": {},
   "outputs": [],
   "source": [
    "df_2000.head()"
   ]
  },
  {
   "cell_type": "code",
   "execution_count": null,
   "metadata": {},
   "outputs": [],
   "source": [
    "# Dataset location\n",
    "database = '/Users/krishnaprasad/Study/NYU/Capstone/STRIKE_REPORTS_2010_1.csv'\n",
    "\n",
    "# Read in a CSV file and store the contents in a dataframe (df)\n",
    "df_2010_1 = pd.read_csv(database, low_memory=False,encoding = \"ISO-8859-1\")"
   ]
  },
  {
   "cell_type": "code",
   "execution_count": null,
   "metadata": {},
   "outputs": [],
   "source": [
    "df_2010_1.head()"
   ]
  },
  {
   "cell_type": "code",
   "execution_count": null,
   "metadata": {},
   "outputs": [],
   "source": [
    "# Dataset location\n",
    "database = '/Users/krishnaprasad/Study/NYU/Capstone/STRIKE_REPORTS_2010_2.csv'\n",
    "\n",
    "# Read in a CSV file and store the contents in a dataframe (df)\n",
    "df_2010_2 = pd.read_csv(database, low_memory=False,encoding = \"ISO-8859-1\")"
   ]
  },
  {
   "cell_type": "code",
   "execution_count": null,
   "metadata": {
    "scrolled": true
   },
   "outputs": [],
   "source": [
    "df_2010_2.head()"
   ]
  },
  {
   "cell_type": "code",
   "execution_count": null,
   "metadata": {},
   "outputs": [],
   "source": [
    "df = [df_1990,df_2000,df_2010_1,df_2010_2]\n",
    "strikes = pd.concat(df)\n",
    "strikes.to_csv(r'Strikes.csv',index=False)"
   ]
  },
  {
   "cell_type": "code",
   "execution_count": null,
   "metadata": {},
   "outputs": [],
   "source": []
  }
 ],
 "metadata": {
  "kernelspec": {
   "display_name": "Python 3",
   "language": "python",
   "name": "python3"
  },
  "language_info": {
   "codemirror_mode": {
    "name": "ipython",
    "version": 3
   },
   "file_extension": ".py",
   "mimetype": "text/x-python",
   "name": "python",
   "nbconvert_exporter": "python",
   "pygments_lexer": "ipython3",
   "version": "3.7.1"
  }
 },
 "nbformat": 4,
 "nbformat_minor": 2
}
